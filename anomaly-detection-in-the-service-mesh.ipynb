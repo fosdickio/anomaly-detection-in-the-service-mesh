{
 "cells": [
  {
   "cell_type": "markdown",
   "metadata": {},
   "source": [
    "# Anomaly Detection in the Service Mesh\n",
    "\n",
    "This Jupyter Notebook contains the dataset and machine learning model used in [the accompanying blog post](https://www.fosdick.io/2018/04/17/anomaly-detection-in-the-service-mesh.html)."
   ]
  },
  {
   "cell_type": "markdown",
   "metadata": {},
   "source": [
    "## Abstract\n",
    "\n",
    "Microservice architectures enable the continuous delivery and deployment of large, complex applications.  With this architecture choice comes the challenge of connecting, managing, and securing communications between the various microservices.  Recent application level denial of service attacks which target backend services have demonstrated a rising attack vector that is capable of bringing down enterprise level systems with minimal cost and effort.  By targeting expensive services using readily available cloud computing services, a single user is capable of backing up an entire system and causing widespread outages.\n",
    "\n",
    "This project seeks to research and better understand the feasibility of using machine learning models to analyze traffic between microservices in order to perform anomaly detection in the service mesh.  The eventual goal of this research is to utilize these models to perform real time policy enforcement decisions based on changes in requests between services."
   ]
  },
  {
   "cell_type": "markdown",
   "metadata": {},
   "source": [
    "## Explore the Data"
   ]
  },
  {
   "cell_type": "code",
   "execution_count": 1,
   "metadata": {},
   "outputs": [
    {
     "data": {
      "text/html": [
       "<div>\n",
       "<style scoped>\n",
       "    .dataframe tbody tr th:only-of-type {\n",
       "        vertical-align: middle;\n",
       "    }\n",
       "\n",
       "    .dataframe tbody tr th {\n",
       "        vertical-align: top;\n",
       "    }\n",
       "\n",
       "    .dataframe thead th {\n",
       "        text-align: right;\n",
       "    }\n",
       "</style>\n",
       "<table border=\"1\" class=\"dataframe\">\n",
       "  <thead>\n",
       "    <tr style=\"text-align: right;\">\n",
       "      <th></th>\n",
       "      <th>destination_ip</th>\n",
       "      <th>latency</th>\n",
       "      <th>level</th>\n",
       "      <th>method</th>\n",
       "      <th>protocol</th>\n",
       "      <th>request_size</th>\n",
       "      <th>response_code</th>\n",
       "      <th>response_size</th>\n",
       "      <th>source_ip</th>\n",
       "      <th>url</th>\n",
       "      <th>severity</th>\n",
       "      <th>timestamp</th>\n",
       "    </tr>\n",
       "  </thead>\n",
       "  <tbody>\n",
       "    <tr>\n",
       "      <th>0</th>\n",
       "      <td>AAAAAAAAAAAAAP//CjACBQ==</td>\n",
       "      <td>91.045ms</td>\n",
       "      <td>info</td>\n",
       "      <td>GET</td>\n",
       "      <td>http</td>\n",
       "      <td>0</td>\n",
       "      <td>200</td>\n",
       "      <td>0</td>\n",
       "      <td>CoAABQ==</td>\n",
       "      <td>/productpage</td>\n",
       "      <td>INFO</td>\n",
       "      <td>2018-03-03T04:00:28.819536Z</td>\n",
       "    </tr>\n",
       "    <tr>\n",
       "      <th>1</th>\n",
       "      <td>AAAAAAAAAAAAAP//CjACCQ==</td>\n",
       "      <td>68.206ms</td>\n",
       "      <td>info</td>\n",
       "      <td>GET</td>\n",
       "      <td>http</td>\n",
       "      <td>0</td>\n",
       "      <td>200</td>\n",
       "      <td>0</td>\n",
       "      <td>CjACBQ==</td>\n",
       "      <td>/productpage</td>\n",
       "      <td>INFO</td>\n",
       "      <td>2018-03-03T04:00:28.837821Z</td>\n",
       "    </tr>\n",
       "    <tr>\n",
       "      <th>2</th>\n",
       "      <td>AAAAAAAAAAAAAP//CjABCA==</td>\n",
       "      <td>8.22ms</td>\n",
       "      <td>info</td>\n",
       "      <td>GET</td>\n",
       "      <td>http</td>\n",
       "      <td>0</td>\n",
       "      <td>200</td>\n",
       "      <td>178</td>\n",
       "      <td>CjACCQ==</td>\n",
       "      <td>/details/0</td>\n",
       "      <td>INFO</td>\n",
       "      <td>2018-03-03T04:00:28.852134Z</td>\n",
       "    </tr>\n",
       "    <tr>\n",
       "      <th>3</th>\n",
       "      <td>AAAAAAAAAAAAAP//CjABCQ==</td>\n",
       "      <td>23.5ms</td>\n",
       "      <td>info</td>\n",
       "      <td>GET</td>\n",
       "      <td>http</td>\n",
       "      <td>0</td>\n",
       "      <td>200</td>\n",
       "      <td>375</td>\n",
       "      <td>CjACCQ==</td>\n",
       "      <td>/reviews/0</td>\n",
       "      <td>INFO</td>\n",
       "      <td>2018-03-03T04:00:28.868748Z</td>\n",
       "    </tr>\n",
       "    <tr>\n",
       "      <th>4</th>\n",
       "      <td>AAAAAAAAAAAAAP//CjACCA==</td>\n",
       "      <td>6.21ms</td>\n",
       "      <td>info</td>\n",
       "      <td>GET</td>\n",
       "      <td>http</td>\n",
       "      <td>0</td>\n",
       "      <td>200</td>\n",
       "      <td>48</td>\n",
       "      <td>CjABCQ==</td>\n",
       "      <td>/ratings/0</td>\n",
       "      <td>INFO</td>\n",
       "      <td>2018-03-03T04:00:28.882584Z</td>\n",
       "    </tr>\n",
       "  </tbody>\n",
       "</table>\n",
       "</div>"
      ],
      "text/plain": [
       "             destination_ip   latency level method protocol  request_size  \\\n",
       "0  AAAAAAAAAAAAAP//CjACBQ==  91.045ms  info    GET     http             0   \n",
       "1  AAAAAAAAAAAAAP//CjACCQ==  68.206ms  info    GET     http             0   \n",
       "2  AAAAAAAAAAAAAP//CjABCA==    8.22ms  info    GET     http             0   \n",
       "3  AAAAAAAAAAAAAP//CjABCQ==    23.5ms  info    GET     http             0   \n",
       "4  AAAAAAAAAAAAAP//CjACCA==    6.21ms  info    GET     http             0   \n",
       "\n",
       "   response_code  response_size source_ip           url severity  \\\n",
       "0            200              0  CoAABQ==  /productpage     INFO   \n",
       "1            200              0  CjACBQ==  /productpage     INFO   \n",
       "2            200            178  CjACCQ==    /details/0     INFO   \n",
       "3            200            375  CjACCQ==    /reviews/0     INFO   \n",
       "4            200             48  CjABCQ==    /ratings/0     INFO   \n",
       "\n",
       "                     timestamp  \n",
       "0  2018-03-03T04:00:28.819536Z  \n",
       "1  2018-03-03T04:00:28.837821Z  \n",
       "2  2018-03-03T04:00:28.852134Z  \n",
       "3  2018-03-03T04:00:28.868748Z  \n",
       "4  2018-03-03T04:00:28.882584Z  "
      ]
     },
     "execution_count": 1,
     "metadata": {},
     "output_type": "execute_result"
    }
   ],
   "source": [
    "# Load the data\n",
    "import os\n",
    "import pandas as pd\n",
    "\n",
    "MIXER_DATA_CSV = \"data-mixer.csv\"\n",
    "\n",
    "def load_mixer_data(data_path = MIXER_DATA_CSV):\n",
    "    return pd.read_csv(data_path)\n",
    "\n",
    "mixer_data = load_mixer_data()\n",
    "mixer_data.head()"
   ]
  },
  {
   "cell_type": "code",
   "execution_count": 2,
   "metadata": {},
   "outputs": [
    {
     "name": "stdout",
     "output_type": "stream",
     "text": [
      "<class 'pandas.core.frame.DataFrame'>\n",
      "RangeIndex: 174103 entries, 0 to 174102\n",
      "Data columns (total 12 columns):\n",
      "destination_ip    174103 non-null object\n",
      "latency           174103 non-null object\n",
      "level             174103 non-null object\n",
      "method            174103 non-null object\n",
      "protocol          174103 non-null object\n",
      "request_size      174103 non-null int64\n",
      "response_code     174103 non-null int64\n",
      "response_size     174103 non-null int64\n",
      "source_ip         174039 non-null object\n",
      "url               174103 non-null object\n",
      "severity          174103 non-null object\n",
      "timestamp         174103 non-null object\n",
      "dtypes: int64(3), object(9)\n",
      "memory usage: 15.9+ MB\n"
     ]
    }
   ],
   "source": [
    "mixer_data.info()"
   ]
  },
  {
   "cell_type": "code",
   "execution_count": 3,
   "metadata": {},
   "outputs": [
    {
     "data": {
      "text/plain": [
       "AAAAAAAAAAAAAP//CjABCA==    37108\n",
       "AAAAAAAAAAAAAP//CjACBQ==    29980\n",
       "AAAAAAAAAAAAAP//CjACCQ==    29579\n",
       "AAAAAAAAAAAAAP//CjACCA==    19607\n",
       "AAAAAAAAAAAAAP//CjAACA==    12485\n",
       "AAAAAAAAAAAAAP//CjABCQ==    12339\n",
       "AAAAAAAAAAAAAP//CjADBw==    12285\n",
       "AAAAAAAAAAAAAP//CjACDw==     7816\n",
       "AAAAAAAAAAAAAP//CjACDA==     7757\n",
       "AAAAAAAAAAAAAP//CjACDg==     5147\n",
       "Name: destination_ip, dtype: int64"
      ]
     },
     "execution_count": 3,
     "metadata": {},
     "output_type": "execute_result"
    }
   ],
   "source": [
    "mixer_data[\"destination_ip\"].value_counts()"
   ]
  },
  {
   "cell_type": "code",
   "execution_count": 4,
   "metadata": {},
   "outputs": [
    {
     "data": {
      "text/plain": [
       "info    174103\n",
       "Name: level, dtype: int64"
      ]
     },
     "execution_count": 4,
     "metadata": {},
     "output_type": "execute_result"
    }
   ],
   "source": [
    "# Since everything was logged at a level of info, we can discard this data\n",
    "mixer_data[\"level\"].value_counts()"
   ]
  },
  {
   "cell_type": "code",
   "execution_count": 5,
   "metadata": {},
   "outputs": [
    {
     "data": {
      "text/plain": [
       "GET         174067\n",
       "HEAD            24\n",
       "POST             8\n",
       "PROPFIND         2\n",
       "OPTIONS          2\n",
       "Name: method, dtype: int64"
      ]
     },
     "execution_count": 5,
     "metadata": {},
     "output_type": "execute_result"
    }
   ],
   "source": [
    "# There are some interesting request types in here that seem to be related to malicious traffic\n",
    "mixer_data[\"method\"].value_counts()"
   ]
  },
  {
   "cell_type": "code",
   "execution_count": 6,
   "metadata": {},
   "outputs": [
    {
     "data": {
      "text/plain": [
       "http    174103\n",
       "Name: protocol, dtype: int64"
      ]
     },
     "execution_count": 6,
     "metadata": {},
     "output_type": "execute_result"
    }
   ],
   "source": [
    "# Since HTTP was the only recorded protocol, we can discard this data\n",
    "mixer_data[\"protocol\"].value_counts()"
   ]
  },
  {
   "cell_type": "code",
   "execution_count": 7,
   "metadata": {},
   "outputs": [
    {
     "data": {
      "text/plain": [
       " 200           173627\n",
       " 503              249\n",
       " 404              150\n",
       " 426               47\n",
       " 400               16\n",
       " 302               12\n",
       "-908571056          1\n",
       " 1609231952         1\n",
       "Name: response_code, dtype: int64"
      ]
     },
     "execution_count": 7,
     "metadata": {},
     "output_type": "execute_result"
    }
   ],
   "source": [
    "# It looks like we might have malicious data and 2 invalid response codes here\n",
    "mixer_data[\"response_code\"].value_counts()"
   ]
  },
  {
   "cell_type": "code",
   "execution_count": 8,
   "metadata": {},
   "outputs": [
    {
     "data": {
      "text/plain": [
       "CjACCQ==    58792\n",
       "CjACBQ==    29579\n",
       "CjACDA==    15425\n",
       "CjAACA==    12449\n",
       "CjABCQ==    12305\n",
       "CoAABA==     9607\n",
       "CoAABQ==     9506\n",
       "CoAAAw==     9328\n",
       "CjACAQ==     9291\n",
       "CjACDw==     7757\n",
       "Name: source_ip, dtype: int64"
      ]
     },
     "execution_count": 8,
     "metadata": {},
     "output_type": "execute_result"
    }
   ],
   "source": [
    "mixer_data[\"source_ip\"].value_counts()"
   ]
  },
  {
   "cell_type": "code",
   "execution_count": 9,
   "metadata": {},
   "outputs": [
    {
     "data": {
      "text/plain": [
       "/productpage                                                                                74907\n",
       "/reviews/0                                                                                  37109\n",
       "/details/0                                                                                  37108\n",
       "/ratings/0                                                                                  24754\n",
       "/                                                                                             101\n",
       "/scripts/setup.php                                                                              9\n",
       "/phpMyAdmin/scripts/setup.php                                                                   7\n",
       "/phpmyadmin/scripts/setup.php                                                                   6\n",
       "/login                                                                                          6\n",
       "/logout                                                                                         6\n",
       "/ccvv                                                                                           5\n",
       "/phpmyadmin/                                                                                    4\n",
       "/myadmin/scripts/setup.php                                                                      4\n",
       "/pma/scripts/setup.php                                                                          4\n",
       "/manager/html                                                                                   4\n",
       "/MyAdmin/scripts/setup.php                                                                      3\n",
       "/webdav                                                                                         3\n",
       "/phpMyAdmin/scripts/db_setup.init.php                                                           3\n",
       "/w00tw00t.at.blackhats.romanian.anti-sec:)                                                      3\n",
       "/phpMyAdmin/                                                                                    3\n",
       "/x                                                                                              2\n",
       "/.git/config                                                                                    2\n",
       "/sitemap.xml                                                                                    2\n",
       "/.git/index                                                                                     2\n",
       "/.well-known/security.txt                                                                       2\n",
       "/favicon.ico                                                                                    2\n",
       "/administrator/index.php                                                                        2\n",
       "/robots.txt                                                                                     2\n",
       "/PluginView/zx425/FrontContent/images/logo.png                                                  1\n",
       "/phpmyadmin4/                                                                                   1\n",
       "                                                                                            ...  \n",
       "/moo                                                                                            1\n",
       "/hndUnblock.cgi                                                                                 1\n",
       "/.idea/WebServers.xml                                                                           1\n",
       "/command.php                                                                                    1\n",
       "/.svn/wc.db                                                                                     1\n",
       "/sftp_config.json                                                                               1\n",
       "/index.htm                                                                                      1\n",
       "/wp/wp-login.php                                                                                1\n",
       "/login.action                                                                                   1\n",
       "/PMA2012/                                                                                       1\n",
       "/index.action                                                                                   1\n",
       "/cgi/common.cgi                                                                                 1\n",
       "/.ssh/id_rsa                                                                                    1\n",
       "/server.js                                                                                      1\n",
       "/wp-login.php                                                                                   1\n",
       "/pma2012/                                                                                       1\n",
       "/getcfg.php                                                                                     1\n",
       "/index.php?option=com_joomanager&controller=details&task=download&path=configuration.php        1\n",
       "/.DS_Store                                                                                      1\n",
       "/tmUnblock.cgi                                                                                  1\n",
       "/index.php?page=/etc/passwd                                                                     1\n",
       "/phpMyAdmin-2.10.0.0/scripts/setup.php                                                          1\n",
       "/CFIDE/administrator/                                                                           1\n",
       "/template/img/login-logo.png                                                                    1\n",
       "/index.html                                                                                     1\n",
       "/axis-cgi/admin/param.cgi?action=list&group=Properties                                          1\n",
       "/index.jsp                                                                                      1\n",
       "/resources/memberCss/img/body/ocean.jpg                                                         1\n",
       "http://httpheader.net/                                                                          1\n",
       "/wordpress/wp-login.php                                                                         1\n",
       "Name: url, Length: 66, dtype: int64"
      ]
     },
     "execution_count": 9,
     "metadata": {},
     "output_type": "execute_result"
    }
   ],
   "source": [
    "# We can see malicious traffic in which web crawlers were searching for vulnerable logins and sensitive files\n",
    "mixer_data[\"url\"].value_counts()"
   ]
  },
  {
   "cell_type": "code",
   "execution_count": 10,
   "metadata": {},
   "outputs": [
    {
     "data": {
      "text/plain": [
       "INFO    174103\n",
       "Name: severity, dtype: int64"
      ]
     },
     "execution_count": 10,
     "metadata": {},
     "output_type": "execute_result"
    }
   ],
   "source": [
    "# Since everything was logged at a severity level INFO, we can discard this data\n",
    "mixer_data[\"severity\"].value_counts()"
   ]
  },
  {
   "cell_type": "code",
   "execution_count": 11,
   "metadata": {},
   "outputs": [
    {
     "data": {
      "text/html": [
       "<div>\n",
       "<style scoped>\n",
       "    .dataframe tbody tr th:only-of-type {\n",
       "        vertical-align: middle;\n",
       "    }\n",
       "\n",
       "    .dataframe tbody tr th {\n",
       "        vertical-align: top;\n",
       "    }\n",
       "\n",
       "    .dataframe thead th {\n",
       "        text-align: right;\n",
       "    }\n",
       "</style>\n",
       "<table border=\"1\" class=\"dataframe\">\n",
       "  <thead>\n",
       "    <tr style=\"text-align: right;\">\n",
       "      <th></th>\n",
       "      <th>request_size</th>\n",
       "      <th>response_code</th>\n",
       "      <th>response_size</th>\n",
       "    </tr>\n",
       "  </thead>\n",
       "  <tbody>\n",
       "    <tr>\n",
       "      <th>count</th>\n",
       "      <td>174103.000000</td>\n",
       "      <td>1.741030e+05</td>\n",
       "      <td>174103.000000</td>\n",
       "    </tr>\n",
       "    <tr>\n",
       "      <th>mean</th>\n",
       "      <td>0.002470</td>\n",
       "      <td>4.225098e+03</td>\n",
       "      <td>2094.296663</td>\n",
       "    </tr>\n",
       "    <tr>\n",
       "      <th>std</th>\n",
       "      <td>0.542487</td>\n",
       "      <td>4.428957e+06</td>\n",
       "      <td>2493.042869</td>\n",
       "    </tr>\n",
       "    <tr>\n",
       "      <th>min</th>\n",
       "      <td>0.000000</td>\n",
       "      <td>-9.085711e+08</td>\n",
       "      <td>0.000000</td>\n",
       "    </tr>\n",
       "    <tr>\n",
       "      <th>25%</th>\n",
       "      <td>0.000000</td>\n",
       "      <td>2.000000e+02</td>\n",
       "      <td>178.000000</td>\n",
       "    </tr>\n",
       "    <tr>\n",
       "      <th>50%</th>\n",
       "      <td>0.000000</td>\n",
       "      <td>2.000000e+02</td>\n",
       "      <td>375.000000</td>\n",
       "    </tr>\n",
       "    <tr>\n",
       "      <th>75%</th>\n",
       "      <td>0.000000</td>\n",
       "      <td>2.000000e+02</td>\n",
       "      <td>4415.000000</td>\n",
       "    </tr>\n",
       "    <tr>\n",
       "      <th>max</th>\n",
       "      <td>208.000000</td>\n",
       "      <td>1.609232e+09</td>\n",
       "      <td>5849.000000</td>\n",
       "    </tr>\n",
       "  </tbody>\n",
       "</table>\n",
       "</div>"
      ],
      "text/plain": [
       "        request_size  response_code  response_size\n",
       "count  174103.000000   1.741030e+05  174103.000000\n",
       "mean        0.002470   4.225098e+03    2094.296663\n",
       "std         0.542487   4.428957e+06    2493.042869\n",
       "min         0.000000  -9.085711e+08       0.000000\n",
       "25%         0.000000   2.000000e+02     178.000000\n",
       "50%         0.000000   2.000000e+02     375.000000\n",
       "75%         0.000000   2.000000e+02    4415.000000\n",
       "max       208.000000   1.609232e+09    5849.000000"
      ]
     },
     "execution_count": 11,
     "metadata": {},
     "output_type": "execute_result"
    }
   ],
   "source": [
    "mixer_data.describe()"
   ]
  },
  {
   "cell_type": "code",
   "execution_count": 12,
   "metadata": {},
   "outputs": [
    {
     "data": {
      "image/png": "[encoded data removed]",
      "text/plain": [
       "<Figure size 1440x1080 with 4 Axes>"
      ]
     },
     "metadata": {},
     "output_type": "display_data"
    }
   ],
   "source": [
    "%matplotlib inline\n",
    "import matplotlib.pyplot as plt\n",
    "mixer_data.hist(figsize=(20, 15))\n",
    "plt.show()"
   ]
  },
  {
   "cell_type": "code",
   "execution_count": 13,
   "metadata": {},
   "outputs": [
    {
     "data": {
      "text/plain": [
       "<matplotlib.axes._subplots.AxesSubplot at 0x1144daa10>"
      ]
     },
     "execution_count": 13,
     "metadata": {},
     "output_type": "execute_result"
    },
    {
     "data": {
      "image/png": "[encoded data removed]",
      "text/plain": [
       "<Figure size 432x288 with 1 Axes>"
      ]
     },
     "metadata": {},
     "output_type": "display_data"
    }
   ],
   "source": [
    "mixer_data.plot(kind=\"scatter\", x=\"request_size\", y=\"response_size\", title=\"Request Size vs. Response Size\", alpha=0.1)"
   ]
  },
  {
   "cell_type": "markdown",
   "metadata": {},
   "source": [
    "## Prepare the Data"
   ]
  },
  {
   "cell_type": "code",
   "execution_count": 14,
   "metadata": {},
   "outputs": [
    {
     "data": {
      "text/html": [
       "<div>\n",
       "<style scoped>\n",
       "    .dataframe tbody tr th:only-of-type {\n",
       "        vertical-align: middle;\n",
       "    }\n",
       "\n",
       "    .dataframe tbody tr th {\n",
       "        vertical-align: top;\n",
       "    }\n",
       "\n",
       "    .dataframe thead th {\n",
       "        text-align: right;\n",
       "    }\n",
       "</style>\n",
       "<table border=\"1\" class=\"dataframe\">\n",
       "  <thead>\n",
       "    <tr style=\"text-align: right;\">\n",
       "      <th></th>\n",
       "      <th>destination_ip</th>\n",
       "      <th>method</th>\n",
       "      <th>request_size</th>\n",
       "      <th>response_size</th>\n",
       "      <th>source_ip</th>\n",
       "      <th>url</th>\n",
       "    </tr>\n",
       "  </thead>\n",
       "  <tbody>\n",
       "    <tr>\n",
       "      <th>0</th>\n",
       "      <td>AAAAAAAAAAAAAP//CjACBQ==</td>\n",
       "      <td>GET</td>\n",
       "      <td>0</td>\n",
       "      <td>0</td>\n",
       "      <td>CoAABQ==</td>\n",
       "      <td>/productpage</td>\n",
       "    </tr>\n",
       "    <tr>\n",
       "      <th>1</th>\n",
       "      <td>AAAAAAAAAAAAAP//CjACCQ==</td>\n",
       "      <td>GET</td>\n",
       "      <td>0</td>\n",
       "      <td>0</td>\n",
       "      <td>CjACBQ==</td>\n",
       "      <td>/productpage</td>\n",
       "    </tr>\n",
       "    <tr>\n",
       "      <th>2</th>\n",
       "      <td>AAAAAAAAAAAAAP//CjABCA==</td>\n",
       "      <td>GET</td>\n",
       "      <td>0</td>\n",
       "      <td>178</td>\n",
       "      <td>CjACCQ==</td>\n",
       "      <td>/details/0</td>\n",
       "    </tr>\n",
       "    <tr>\n",
       "      <th>3</th>\n",
       "      <td>AAAAAAAAAAAAAP//CjABCQ==</td>\n",
       "      <td>GET</td>\n",
       "      <td>0</td>\n",
       "      <td>375</td>\n",
       "      <td>CjACCQ==</td>\n",
       "      <td>/reviews/0</td>\n",
       "    </tr>\n",
       "    <tr>\n",
       "      <th>4</th>\n",
       "      <td>AAAAAAAAAAAAAP//CjACCA==</td>\n",
       "      <td>GET</td>\n",
       "      <td>0</td>\n",
       "      <td>48</td>\n",
       "      <td>CjABCQ==</td>\n",
       "      <td>/ratings/0</td>\n",
       "    </tr>\n",
       "  </tbody>\n",
       "</table>\n",
       "</div>"
      ],
      "text/plain": [
       "             destination_ip method  request_size  response_size source_ip  \\\n",
       "0  AAAAAAAAAAAAAP//CjACBQ==    GET             0              0  CoAABQ==   \n",
       "1  AAAAAAAAAAAAAP//CjACCQ==    GET             0              0  CjACBQ==   \n",
       "2  AAAAAAAAAAAAAP//CjABCA==    GET             0            178  CjACCQ==   \n",
       "3  AAAAAAAAAAAAAP//CjABCQ==    GET             0            375  CjACCQ==   \n",
       "4  AAAAAAAAAAAAAP//CjACCA==    GET             0             48  CjABCQ==   \n",
       "\n",
       "            url  \n",
       "0  /productpage  \n",
       "1  /productpage  \n",
       "2    /details/0  \n",
       "3    /reviews/0  \n",
       "4    /ratings/0  "
      ]
     },
     "execution_count": 14,
     "metadata": {},
     "output_type": "execute_result"
    }
   ],
   "source": [
    "# Let's get rid of the columns that we aren't going to use\n",
    "mixer_data_clean = mixer_data.drop([\"latency\", \"level\", \"protocol\", \"response_code\", \"severity\", \"timestamp\"], axis=1).dropna()\n",
    "mixer_data_clean.head()"
   ]
  },
  {
   "cell_type": "code",
   "execution_count": 15,
   "metadata": {},
   "outputs": [
    {
     "data": {
      "text/plain": [
       "array([0, 0, 1, ..., 1, 2, 3])"
      ]
     },
     "execution_count": 15,
     "metadata": {},
     "output_type": "execute_result"
    }
   ],
   "source": [
    "# Converting text labels to numbers will make the data easier for ML algorithms to handle\n",
    "# We can use Pandas' factorize() method to convert string categorical features to integer categorical features\n",
    "\n",
    "url_cat = mixer_data_clean[\"url\"]\n",
    "url_cat_encoded, url_categories = url_cat.factorize()\n",
    "url_cat_encoded"
   ]
  },
  {
   "cell_type": "code",
   "execution_count": 16,
   "metadata": {},
   "outputs": [
    {
     "data": {
      "text/plain": [
       "array([0, 0, 0, ..., 0, 0, 0])"
      ]
     },
     "execution_count": 16,
     "metadata": {},
     "output_type": "execute_result"
    }
   ],
   "source": [
    "method_cat = mixer_data_clean[\"method\"]\n",
    "method_cat_encoded, method_categories = method_cat.factorize()\n",
    "method_cat_encoded"
   ]
  },
  {
   "cell_type": "code",
   "execution_count": 17,
   "metadata": {},
   "outputs": [
    {
     "data": {
      "text/plain": [
       "array([0, 1, 2, ..., 2, 2, 3])"
      ]
     },
     "execution_count": 17,
     "metadata": {},
     "output_type": "execute_result"
    }
   ],
   "source": [
    "# There were some values of source IP that weren't pulled correctly\n",
    "sip_cat = mixer_data_clean[\"source_ip\"]\n",
    "sip_cat_encoded, sip_categories = sip_cat.factorize()\n",
    "sip_cat_encoded"
   ]
  },
  {
   "cell_type": "code",
   "execution_count": 18,
   "metadata": {},
   "outputs": [
    {
     "data": {
      "text/plain": [
       "array([0, 1, 2, ..., 2, 3, 4])"
      ]
     },
     "execution_count": 18,
     "metadata": {},
     "output_type": "execute_result"
    }
   ],
   "source": [
    "dip_cat = mixer_data_clean[\"destination_ip\"]\n",
    "dip_cat_encoded, dip_categories = dip_cat.factorize()\n",
    "dip_cat_encoded"
   ]
  },
  {
   "cell_type": "code",
   "execution_count": 19,
   "metadata": {},
   "outputs": [
    {
     "data": {
      "text/plain": [
       "Index([u'/productpage', u'/details/0', u'/reviews/0', u'/ratings/0', u'/',\n",
       "       u'/administrator/index.php', u'/.git/config', u'/manager/html',\n",
       "       u'/ccvv', u'/myadmin/scripts/setup.php',\n",
       "       u'/resources/memberCss/img/body/ocean.jpg',\n",
       "       u'/index.php?page=/etc/passwd', u'/.svn/wc.db', u'/.hg/hgrc',\n",
       "       u'/.ssh/id_rsa', u'/sftp_config.json', u'/.idea/WebServers.xml',\n",
       "       u'/.DS_Store', u'/favicon.ico',\n",
       "       u'/index.php?option=com_joomanager&controller=details&task=download&path=configuration.php',\n",
       "       u'/.git/index', u'/wp-login.php', u'/wp/wp-login.php',\n",
       "       u'/wordpress/wp-login.php', u'/blog/wp-login.php',\n",
       "       u'/currentsetting.htm',\n",
       "       u'/PluginView/zx425/FrontContent/images/logo.png', u'/cgi/common.cgi',\n",
       "       u'/stssys.htm', u'/command.php',\n",
       "       u'/w00tw00t.at.blackhats.romanian.anti-sec:)',\n",
       "       u'/phpMyAdmin/scripts/setup.php', u'/phpmyadmin/scripts/setup.php',\n",
       "       u'/pma/scripts/setup.php', u'/MyAdmin/scripts/setup.php',\n",
       "       u'/phpmyadmin/', u'/phpMyAdmin/', u'/CFIDE/administrator/',\n",
       "       u'/PMA2012/', u'/pma2012/', u'/phpmyadmin4/',\n",
       "       u'/phpMyAdmin-2.10.0.0/scripts/setup.php',\n",
       "       u'/template/img/login-logo.png', u'/scripts/setup.php',\n",
       "       u'/phpMyAdmin/scripts/db_setup.init.php', u'/admin', u'/login.action',\n",
       "       u'/index.action', u'/index.htm', u'/index.html', u'/index.jsp',\n",
       "       u'/robots.txt', u'/sitemap.xml', u'/.well-known/security.txt',\n",
       "       u'/login', u'/logout', u'/hndUnblock.cgi', u'/tmUnblock.cgi', u'/moo',\n",
       "       u'/getcfg.php'],\n",
       "      dtype='object')"
      ]
     },
     "execution_count": 19,
     "metadata": {},
     "output_type": "execute_result"
    }
   ],
   "source": [
    "url_categories"
   ]
  },
  {
   "cell_type": "code",
   "execution_count": 20,
   "metadata": {},
   "outputs": [
    {
     "data": {
      "text/plain": [
       "Index([u'GET', u'HEAD', u'PROPFIND', u'POST', u'OPTIONS'], dtype='object')"
      ]
     },
     "execution_count": 20,
     "metadata": {},
     "output_type": "execute_result"
    }
   ],
   "source": [
    "method_categories"
   ]
  },
  {
   "cell_type": "code",
   "execution_count": 21,
   "metadata": {},
   "outputs": [
    {
     "data": {
      "text/plain": [
       "Index([u'CoAABQ==', u'CjACBQ==', u'CjACCQ==', u'CjABCQ==', u'CoAAAw==',\n",
       "       u'CoAABA==', u'CjAACA==', u'CjACAQ==', u'CjACDw==', u'CjACDA=='],\n",
       "      dtype='object')"
      ]
     },
     "execution_count": 21,
     "metadata": {},
     "output_type": "execute_result"
    }
   ],
   "source": [
    "sip_categories"
   ]
  },
  {
   "cell_type": "code",
   "execution_count": 22,
   "metadata": {},
   "outputs": [
    {
     "data": {
      "text/plain": [
       "Index([u'AAAAAAAAAAAAAP//CjACBQ==', u'AAAAAAAAAAAAAP//CjACCQ==',\n",
       "       u'AAAAAAAAAAAAAP//CjABCA==', u'AAAAAAAAAAAAAP//CjABCQ==',\n",
       "       u'AAAAAAAAAAAAAP//CjACCA==', u'AAAAAAAAAAAAAP//CjADBw==',\n",
       "       u'AAAAAAAAAAAAAP//CjAACA==', u'AAAAAAAAAAAAAP//CjACDw==',\n",
       "       u'AAAAAAAAAAAAAP//CjACDA==', u'AAAAAAAAAAAAAP//CjACDg=='],\n",
       "      dtype='object')"
      ]
     },
     "execution_count": 22,
     "metadata": {},
     "output_type": "execute_result"
    }
   ],
   "source": [
    "dip_categories"
   ]
  },
  {
   "cell_type": "code",
   "execution_count": 23,
   "metadata": {},
   "outputs": [
    {
     "data": {
      "text/plain": [
       "<174039x60 sparse matrix of type '<type 'numpy.float64'>'\n",
       "\twith 174039 stored elements in Compressed Sparse Row format>"
      ]
     },
     "execution_count": 23,
     "metadata": {},
     "output_type": "execute_result"
    }
   ],
   "source": [
    "# One issue with this representation is that ML algorithms will assume that two nearby values are more similar\n",
    "# Let's create one binary attribute per category (one-hot encoding)\n",
    "from sklearn.preprocessing import OneHotEncoder\n",
    "\n",
    "url_onehot_encoder = OneHotEncoder()\n",
    "url_cat_1hot = url_onehot_encoder.fit_transform(url_cat_encoded.reshape(-1, 1))\n",
    "url_cat_1hot"
   ]
  },
  {
   "cell_type": "code",
   "execution_count": 24,
   "metadata": {},
   "outputs": [
    {
     "data": {
      "text/plain": [
       "<174039x5 sparse matrix of type '<type 'numpy.float64'>'\n",
       "\twith 174039 stored elements in Compressed Sparse Row format>"
      ]
     },
     "execution_count": 24,
     "metadata": {},
     "output_type": "execute_result"
    }
   ],
   "source": [
    "method_onehot_encoder = OneHotEncoder()\n",
    "method_cat_1hot = method_onehot_encoder.fit_transform(method_cat_encoded.reshape(-1, 1))\n",
    "method_cat_1hot"
   ]
  },
  {
   "cell_type": "code",
   "execution_count": 25,
   "metadata": {},
   "outputs": [
    {
     "data": {
      "text/plain": [
       "<174039x10 sparse matrix of type '<type 'numpy.float64'>'\n",
       "\twith 174039 stored elements in Compressed Sparse Row format>"
      ]
     },
     "execution_count": 25,
     "metadata": {},
     "output_type": "execute_result"
    }
   ],
   "source": [
    "sip_onehot_encoder = OneHotEncoder()\n",
    "sip_cat_1hot = sip_onehot_encoder.fit_transform(sip_cat_encoded.reshape(-1, 1))\n",
    "sip_cat_1hot"
   ]
  },
  {
   "cell_type": "code",
   "execution_count": 26,
   "metadata": {},
   "outputs": [
    {
     "data": {
      "text/plain": [
       "<174039x10 sparse matrix of type '<type 'numpy.float64'>'\n",
       "\twith 174039 stored elements in Compressed Sparse Row format>"
      ]
     },
     "execution_count": 26,
     "metadata": {},
     "output_type": "execute_result"
    }
   ],
   "source": [
    "dip_onehot_encoder = OneHotEncoder()\n",
    "dip_cat_1hot = dip_onehot_encoder.fit_transform(dip_cat_encoded.reshape(-1, 1))\n",
    "dip_cat_1hot"
   ]
  },
  {
   "cell_type": "code",
   "execution_count": 27,
   "metadata": {},
   "outputs": [
    {
     "data": {
      "text/plain": [
       "array([[1., 0., 0., ..., 0., 0., 0.],\n",
       "       [1., 0., 0., ..., 0., 0., 0.],\n",
       "       [0., 1., 0., ..., 0., 0., 0.],\n",
       "       ...,\n",
       "       [0., 1., 0., ..., 0., 0., 0.],\n",
       "       [0., 0., 1., ..., 0., 0., 0.],\n",
       "       [0., 0., 0., ..., 0., 0., 0.]])"
      ]
     },
     "execution_count": 27,
     "metadata": {},
     "output_type": "execute_result"
    }
   ],
   "source": [
    "# The OneHotEncoder returns a sparse array by default, but we can convert it to a dense array if needed\n",
    "url_cat_1hot.toarray()"
   ]
  },
  {
   "cell_type": "code",
   "execution_count": 28,
   "metadata": {},
   "outputs": [],
   "source": [
    "# Definition of the CategoricalEncoder class, copied from PR #9151.\n",
    "\n",
    "import numpy as np\n",
    "from sklearn.base import BaseEstimator, TransformerMixin\n",
    "from sklearn.utils import check_array\n",
    "from sklearn.preprocessing import LabelEncoder\n",
    "from scipy import sparse\n",
    "\n",
    "class CategoricalEncoder(BaseEstimator, TransformerMixin):\n",
    "    \"\"\"Encode categorical features as a numeric array.\n",
    "    The input to this transformer should be a matrix of integers or strings,\n",
    "    denoting the values taken on by categorical (discrete) features.\n",
    "    The features can be encoded using a one-hot aka one-of-K scheme\n",
    "    (``encoding='onehot'``, the default) or converted to ordinal integers\n",
    "    (``encoding='ordinal'``).\n",
    "    This encoding is needed for feeding categorical data to many scikit-learn\n",
    "    estimators, notably linear models and SVMs with the standard kernels.\n",
    "    Read more in the :ref:`User Guide <preprocessing_categorical_features>`.\n",
    "    Parameters\n",
    "    ----------\n",
    "    encoding : str, 'onehot', 'onehot-dense' or 'ordinal'\n",
    "        The type of encoding to use (default is 'onehot'):\n",
    "        - 'onehot': encode the features using a one-hot aka one-of-K scheme\n",
    "          (or also called 'dummy' encoding). This creates a binary column for\n",
    "          each category and returns a sparse matrix.\n",
    "        - 'onehot-dense': the same as 'onehot' but returns a dense array\n",
    "          instead of a sparse matrix.\n",
    "        - 'ordinal': encode the features as ordinal integers. This results in\n",
    "          a single column of integers (0 to n_categories - 1) per feature.\n",
    "    categories : 'auto' or a list of lists/arrays of values.\n",
    "        Categories (unique values) per feature:\n",
    "        - 'auto' : Determine categories automatically from the training data.\n",
    "        - list : ``categories[i]`` holds the categories expected in the ith\n",
    "          column. The passed categories are sorted before encoding the data\n",
    "          (used categories can be found in the ``categories_`` attribute).\n",
    "    dtype : number type, default np.float64\n",
    "        Desired dtype of output.\n",
    "    handle_unknown : 'error' (default) or 'ignore'\n",
    "        Whether to raise an error or ignore if a unknown categorical feature is\n",
    "        present during transform (default is to raise). When this is parameter\n",
    "        is set to 'ignore' and an unknown category is encountered during\n",
    "        transform, the resulting one-hot encoded columns for this feature\n",
    "        will be all zeros.\n",
    "        Ignoring unknown categories is not supported for\n",
    "        ``encoding='ordinal'``.\n",
    "    Attributes\n",
    "    ----------\n",
    "    categories_ : list of arrays\n",
    "        The categories of each feature determined during fitting. When\n",
    "        categories were specified manually, this holds the sorted categories\n",
    "        (in order corresponding with output of `transform`).\n",
    "    Examples\n",
    "    --------\n",
    "    Given a dataset with three features and two samples, we let the encoder\n",
    "    find the maximum value per feature and transform the data to a binary\n",
    "    one-hot encoding.\n",
    "    >>> from sklearn.preprocessing import CategoricalEncoder\n",
    "    >>> enc = CategoricalEncoder(handle_unknown='ignore')\n",
    "    >>> enc.fit([[0, 0, 3], [1, 1, 0], [0, 2, 1], [1, 0, 2]])\n",
    "    ... # doctest: +ELLIPSIS\n",
    "    CategoricalEncoder(categories='auto', dtype=<... 'numpy.float64'>,\n",
    "              encoding='onehot', handle_unknown='ignore')\n",
    "    >>> enc.transform([[0, 1, 1], [1, 0, 4]]).toarray()\n",
    "    array([[ 1.,  0.,  0.,  1.,  0.,  0.,  1.,  0.,  0.],\n",
    "           [ 0.,  1.,  1.,  0.,  0.,  0.,  0.,  0.,  0.]])\n",
    "    See also\n",
    "    --------\n",
    "    sklearn.preprocessing.OneHotEncoder : performs a one-hot encoding of\n",
    "      integer ordinal features. The ``OneHotEncoder assumes`` that input\n",
    "      features take on values in the range ``[0, max(feature)]`` instead of\n",
    "      using the unique values.\n",
    "    sklearn.feature_extraction.DictVectorizer : performs a one-hot encoding of\n",
    "      dictionary items (also handles string-valued features).\n",
    "    sklearn.feature_extraction.FeatureHasher : performs an approximate one-hot\n",
    "      encoding of dictionary items or strings.\n",
    "    \"\"\"\n",
    "\n",
    "    def __init__(self, encoding='onehot', categories='auto', dtype=np.float64,\n",
    "                 handle_unknown='error'):\n",
    "        self.encoding = encoding\n",
    "        self.categories = categories\n",
    "        self.dtype = dtype\n",
    "        self.handle_unknown = handle_unknown\n",
    "\n",
    "    def fit(self, X, y=None):\n",
    "        \"\"\"Fit the CategoricalEncoder to X.\n",
    "        Parameters\n",
    "        ----------\n",
    "        X : array-like, shape [n_samples, n_feature]\n",
    "            The data to determine the categories of each feature.\n",
    "        Returns\n",
    "        -------\n",
    "        self\n",
    "        \"\"\"\n",
    "\n",
    "        if self.encoding not in ['onehot', 'onehot-dense', 'ordinal']:\n",
    "            template = (\"encoding should be either 'onehot', 'onehot-dense' \"\n",
    "                        \"or 'ordinal', got %s\")\n",
    "            raise ValueError(template % self.handle_unknown)\n",
    "\n",
    "        if self.handle_unknown not in ['error', 'ignore']:\n",
    "            template = (\"handle_unknown should be either 'error' or \"\n",
    "                        \"'ignore', got %s\")\n",
    "            raise ValueError(template % self.handle_unknown)\n",
    "\n",
    "        if self.encoding == 'ordinal' and self.handle_unknown == 'ignore':\n",
    "            raise ValueError(\"handle_unknown='ignore' is not supported for\"\n",
    "                             \" encoding='ordinal'\")\n",
    "\n",
    "        X = check_array(X, dtype=np.object, accept_sparse='csc', copy=True)\n",
    "        n_samples, n_features = X.shape\n",
    "\n",
    "        self._label_encoders_ = [LabelEncoder() for _ in range(n_features)]\n",
    "\n",
    "        for i in range(n_features):\n",
    "            le = self._label_encoders_[i]\n",
    "            Xi = X[:, i]\n",
    "            if self.categories == 'auto':\n",
    "                le.fit(Xi)\n",
    "            else:\n",
    "                valid_mask = np.in1d(Xi, self.categories[i])\n",
    "                if not np.all(valid_mask):\n",
    "                    if self.handle_unknown == 'error':\n",
    "                        diff = np.unique(Xi[~valid_mask])\n",
    "                        msg = (\"Found unknown categories {0} in column {1}\"\n",
    "                               \" during fit\".format(diff, i))\n",
    "                        raise ValueError(msg)\n",
    "                le.classes_ = np.array(np.sort(self.categories[i]))\n",
    "\n",
    "        self.categories_ = [le.classes_ for le in self._label_encoders_]\n",
    "\n",
    "        return self\n",
    "\n",
    "    def transform(self, X):\n",
    "        \"\"\"Transform X using one-hot encoding.\n",
    "        Parameters\n",
    "        ----------\n",
    "        X : array-like, shape [n_samples, n_features]\n",
    "            The data to encode.\n",
    "        Returns\n",
    "        -------\n",
    "        X_out : sparse matrix or a 2-d array\n",
    "            Transformed input.\n",
    "        \"\"\"\n",
    "        X = check_array(X, accept_sparse='csc', dtype=np.object, copy=True)\n",
    "        n_samples, n_features = X.shape\n",
    "        X_int = np.zeros_like(X, dtype=np.int)\n",
    "        X_mask = np.ones_like(X, dtype=np.bool)\n",
    "\n",
    "        for i in range(n_features):\n",
    "            valid_mask = np.in1d(X[:, i], self.categories_[i])\n",
    "\n",
    "            if not np.all(valid_mask):\n",
    "                if self.handle_unknown == 'error':\n",
    "                    diff = np.unique(X[~valid_mask, i])\n",
    "                    msg = (\"Found unknown categories {0} in column {1}\"\n",
    "                           \" during transform\".format(diff, i))\n",
    "                    raise ValueError(msg)\n",
    "                else:\n",
    "                    # Set the problematic rows to an acceptable value and\n",
    "                    # continue `The rows are marked `X_mask` and will be\n",
    "                    # removed later.\n",
    "                    X_mask[:, i] = valid_mask\n",
    "                    X[:, i][~valid_mask] = self.categories_[i][0]\n",
    "            X_int[:, i] = self._label_encoders_[i].transform(X[:, i])\n",
    "\n",
    "        if self.encoding == 'ordinal':\n",
    "            return X_int.astype(self.dtype, copy=False)\n",
    "\n",
    "        mask = X_mask.ravel()\n",
    "        n_values = [cats.shape[0] for cats in self.categories_]\n",
    "        n_values = np.array([0] + n_values)\n",
    "        indices = np.cumsum(n_values)\n",
    "\n",
    "        column_indices = (X_int + indices[:-1]).ravel()[mask]\n",
    "        row_indices = np.repeat(np.arange(n_samples, dtype=np.int32),\n",
    "                                n_features)[mask]\n",
    "        data = np.ones(n_samples * n_features)[mask]\n",
    "\n",
    "        out = sparse.csc_matrix((data, (row_indices, column_indices)),\n",
    "                                shape=(n_samples, indices[-1]),\n",
    "                                dtype=self.dtype).tocsr()\n",
    "        if self.encoding == 'onehot-dense':\n",
    "            return out.toarray()\n",
    "        else:\n",
    "            return out"
   ]
  },
  {
   "cell_type": "code",
   "execution_count": 29,
   "metadata": {},
   "outputs": [
    {
     "data": {
      "text/plain": [
       "<174039x60 sparse matrix of type '<type 'numpy.float64'>'\n",
       "\twith 174039 stored elements in Compressed Sparse Row format>"
      ]
     },
     "execution_count": 29,
     "metadata": {},
     "output_type": "execute_result"
    }
   ],
   "source": [
    "# The CategoricalEncoder expects a 2D array containing one or more categorical input features\n",
    "# We need to reshape url_cat to a 2D array\n",
    "\n",
    "url_cat_encoder = CategoricalEncoder()\n",
    "url_cat_reshaped = url_cat.values.reshape(-1, 1)\n",
    "url_cat_1hot = url_cat_encoder.fit_transform(url_cat_reshaped)\n",
    "url_cat_1hot"
   ]
  },
  {
   "cell_type": "code",
   "execution_count": 30,
   "metadata": {},
   "outputs": [
    {
     "data": {
      "text/plain": [
       "<174039x5 sparse matrix of type '<type 'numpy.float64'>'\n",
       "\twith 174039 stored elements in Compressed Sparse Row format>"
      ]
     },
     "execution_count": 30,
     "metadata": {},
     "output_type": "execute_result"
    }
   ],
   "source": [
    "method_cat_encoder = CategoricalEncoder()\n",
    "method_cat_reshaped = method_cat.values.reshape(-1, 1)\n",
    "method_cat_1hot = method_cat_encoder.fit_transform(method_cat_reshaped)\n",
    "method_cat_1hot"
   ]
  },
  {
   "cell_type": "code",
   "execution_count": 31,
   "metadata": {},
   "outputs": [
    {
     "data": {
      "text/plain": [
       "<174039x10 sparse matrix of type '<type 'numpy.float64'>'\n",
       "\twith 174039 stored elements in Compressed Sparse Row format>"
      ]
     },
     "execution_count": 31,
     "metadata": {},
     "output_type": "execute_result"
    }
   ],
   "source": [
    "sip_cat_encoder = CategoricalEncoder()\n",
    "sip_cat_reshaped = sip_cat.values.reshape(-1, 1)\n",
    "sip_cat_1hot = sip_cat_encoder.fit_transform(sip_cat_reshaped)\n",
    "sip_cat_1hot"
   ]
  },
  {
   "cell_type": "code",
   "execution_count": 32,
   "metadata": {},
   "outputs": [
    {
     "data": {
      "text/plain": [
       "<174039x10 sparse matrix of type '<type 'numpy.float64'>'\n",
       "\twith 174039 stored elements in Compressed Sparse Row format>"
      ]
     },
     "execution_count": 32,
     "metadata": {},
     "output_type": "execute_result"
    }
   ],
   "source": [
    "dip_cat_encoder = CategoricalEncoder()\n",
    "dip_cat_reshaped = dip_cat.values.reshape(-1, 1)\n",
    "dip_cat_1hot = dip_cat_encoder.fit_transform(dip_cat_reshaped)\n",
    "dip_cat_1hot"
   ]
  },
  {
   "cell_type": "code",
   "execution_count": 33,
   "metadata": {},
   "outputs": [
    {
     "data": {
      "text/plain": [
       "array([[0., 0., 0., ..., 0., 0., 0.],\n",
       "       [0., 0., 0., ..., 0., 0., 0.],\n",
       "       [0., 0., 0., ..., 0., 0., 0.],\n",
       "       ...,\n",
       "       [0., 0., 0., ..., 0., 0., 0.],\n",
       "       [0., 0., 0., ..., 0., 0., 0.],\n",
       "       [0., 0., 0., ..., 0., 0., 0.]])"
      ]
     },
     "execution_count": 33,
     "metadata": {},
     "output_type": "execute_result"
    }
   ],
   "source": [
    "url_cat_1hot.toarray()"
   ]
  },
  {
   "cell_type": "code",
   "execution_count": 34,
   "metadata": {},
   "outputs": [
    {
     "data": {
      "text/plain": [
       "[array(['/', '/.DS_Store', '/.git/config', '/.git/index', '/.hg/hgrc',\n",
       "        '/.idea/WebServers.xml', '/.ssh/id_rsa', '/.svn/wc.db',\n",
       "        '/.well-known/security.txt', '/CFIDE/administrator/',\n",
       "        '/MyAdmin/scripts/setup.php', '/PMA2012/',\n",
       "        '/PluginView/zx425/FrontContent/images/logo.png', '/admin',\n",
       "        '/administrator/index.php', '/blog/wp-login.php', '/ccvv',\n",
       "        '/cgi/common.cgi', '/command.php', '/currentsetting.htm',\n",
       "        '/details/0', '/favicon.ico', '/getcfg.php', '/hndUnblock.cgi',\n",
       "        '/index.action', '/index.htm', '/index.html', '/index.jsp',\n",
       "        '/index.php?option=com_joomanager&controller=details&task=download&path=configuration.php',\n",
       "        '/index.php?page=/etc/passwd', '/login', '/login.action',\n",
       "        '/logout', '/manager/html', '/moo', '/myadmin/scripts/setup.php',\n",
       "        '/phpMyAdmin-2.10.0.0/scripts/setup.php', '/phpMyAdmin/',\n",
       "        '/phpMyAdmin/scripts/db_setup.init.php',\n",
       "        '/phpMyAdmin/scripts/setup.php', '/phpmyadmin/',\n",
       "        '/phpmyadmin/scripts/setup.php', '/phpmyadmin4/',\n",
       "        '/pma/scripts/setup.php', '/pma2012/', '/productpage',\n",
       "        '/ratings/0', '/resources/memberCss/img/body/ocean.jpg',\n",
       "        '/reviews/0', '/robots.txt', '/scripts/setup.php',\n",
       "        '/sftp_config.json', '/sitemap.xml', '/stssys.htm',\n",
       "        '/template/img/login-logo.png', '/tmUnblock.cgi',\n",
       "        '/w00tw00t.at.blackhats.romanian.anti-sec:)',\n",
       "        '/wordpress/wp-login.php', '/wp-login.php', '/wp/wp-login.php'],\n",
       "       dtype=object)]"
      ]
     },
     "execution_count": 34,
     "metadata": {},
     "output_type": "execute_result"
    }
   ],
   "source": [
    "url_cat_encoder.categories_"
   ]
  },
  {
   "cell_type": "code",
   "execution_count": 35,
   "metadata": {},
   "outputs": [
    {
     "data": {
      "text/plain": [
       "[array(['GET', 'HEAD', 'OPTIONS', 'POST', 'PROPFIND'], dtype=object)]"
      ]
     },
     "execution_count": 35,
     "metadata": {},
     "output_type": "execute_result"
    }
   ],
   "source": [
    "method_cat_encoder.categories_"
   ]
  },
  {
   "cell_type": "code",
   "execution_count": 36,
   "metadata": {},
   "outputs": [
    {
     "data": {
      "text/plain": [
       "[array(['CjAACA==', 'CjABCQ==', 'CjACAQ==', 'CjACBQ==', 'CjACCQ==',\n",
       "        'CjACDA==', 'CjACDw==', 'CoAAAw==', 'CoAABA==', 'CoAABQ=='],\n",
       "       dtype=object)]"
      ]
     },
     "execution_count": 36,
     "metadata": {},
     "output_type": "execute_result"
    }
   ],
   "source": [
    "sip_cat_encoder.categories_"
   ]
  },
  {
   "cell_type": "code",
   "execution_count": 37,
   "metadata": {},
   "outputs": [
    {
     "data": {
      "text/plain": [
       "[array(['AAAAAAAAAAAAAP//CjAACA==', 'AAAAAAAAAAAAAP//CjABCA==',\n",
       "        'AAAAAAAAAAAAAP//CjABCQ==', 'AAAAAAAAAAAAAP//CjACBQ==',\n",
       "        'AAAAAAAAAAAAAP//CjACCA==', 'AAAAAAAAAAAAAP//CjACCQ==',\n",
       "        'AAAAAAAAAAAAAP//CjACDA==', 'AAAAAAAAAAAAAP//CjACDg==',\n",
       "        'AAAAAAAAAAAAAP//CjACDw==', 'AAAAAAAAAAAAAP//CjADBw=='],\n",
       "       dtype=object)]"
      ]
     },
     "execution_count": 37,
     "metadata": {},
     "output_type": "execute_result"
    }
   ],
   "source": [
    "dip_cat_encoder.categories_"
   ]
  },
  {
   "cell_type": "code",
   "execution_count": 38,
   "metadata": {},
   "outputs": [
    {
     "data": {
      "text/html": [
       "<div>\n",
       "<style scoped>\n",
       "    .dataframe tbody tr th:only-of-type {\n",
       "        vertical-align: middle;\n",
       "    }\n",
       "\n",
       "    .dataframe tbody tr th {\n",
       "        vertical-align: top;\n",
       "    }\n",
       "\n",
       "    .dataframe thead th {\n",
       "        text-align: right;\n",
       "    }\n",
       "</style>\n",
       "<table border=\"1\" class=\"dataframe\">\n",
       "  <thead>\n",
       "    <tr style=\"text-align: right;\">\n",
       "      <th></th>\n",
       "      <th>request_size</th>\n",
       "      <th>response_size</th>\n",
       "    </tr>\n",
       "  </thead>\n",
       "  <tbody>\n",
       "    <tr>\n",
       "      <th>0</th>\n",
       "      <td>0</td>\n",
       "      <td>0</td>\n",
       "    </tr>\n",
       "    <tr>\n",
       "      <th>1</th>\n",
       "      <td>0</td>\n",
       "      <td>0</td>\n",
       "    </tr>\n",
       "    <tr>\n",
       "      <th>2</th>\n",
       "      <td>0</td>\n",
       "      <td>178</td>\n",
       "    </tr>\n",
       "    <tr>\n",
       "      <th>3</th>\n",
       "      <td>0</td>\n",
       "      <td>375</td>\n",
       "    </tr>\n",
       "    <tr>\n",
       "      <th>4</th>\n",
       "      <td>0</td>\n",
       "      <td>48</td>\n",
       "    </tr>\n",
       "  </tbody>\n",
       "</table>\n",
       "</div>"
      ],
      "text/plain": [
       "   request_size  response_size\n",
       "0             0              0\n",
       "1             0              0\n",
       "2             0            178\n",
       "3             0            375\n",
       "4             0             48"
      ]
     },
     "execution_count": 38,
     "metadata": {},
     "output_type": "execute_result"
    }
   ],
   "source": [
    "mixer_data_num = mixer_data_clean.drop([\"destination_ip\", \"method\", \"source_ip\", \"url\"], axis=1)\n",
    "mixer_data_num.head()"
   ]
  },
  {
   "cell_type": "code",
   "execution_count": 39,
   "metadata": {},
   "outputs": [
    {
     "data": {
      "text/plain": [
       "array([[-0.00455359, -0.84032232],\n",
       "       [-0.00455359, -0.84032232],\n",
       "       [-0.00455359, -0.76892728],\n",
       "       ...,\n",
       "       [-0.00455359, -0.76892728],\n",
       "       [-0.00455359, -0.68991143],\n",
       "       [-0.00455359, -0.82106972]])"
      ]
     },
     "execution_count": 39,
     "metadata": {},
     "output_type": "execute_result"
    }
   ],
   "source": [
    "# Build a pipeline for preprocessing the numerical attributes\n",
    "from sklearn.pipeline import Pipeline\n",
    "from sklearn.preprocessing import StandardScaler\n",
    "\n",
    "num_pipeline = Pipeline([\n",
    "        ('std_scaler', StandardScaler()),\n",
    "    ])\n",
    "\n",
    "mixer_data_tr = num_pipeline.fit_transform(mixer_data_num)\n",
    "mixer_data_tr"
   ]
  },
  {
   "cell_type": "code",
   "execution_count": 40,
   "metadata": {},
   "outputs": [],
   "source": [
    "# Create a class to select numerical or categorical columns since Scikit-Learn doesn't handle DataFrames yet\n",
    "from sklearn.base import BaseEstimator, TransformerMixin\n",
    "\n",
    "class DataFrameSelector(BaseEstimator, TransformerMixin):\n",
    "    def __init__(self, attribute_names):\n",
    "        self.attribute_names = attribute_names\n",
    "    def fit(self, X, y=None):\n",
    "        return self\n",
    "    def transform(self, X):\n",
    "        return X[self.attribute_names].values"
   ]
  },
  {
   "cell_type": "code",
   "execution_count": 41,
   "metadata": {},
   "outputs": [],
   "source": [
    "num_attribs = list(mixer_data_num)\n",
    "cat_attribs = [\"destination_ip\", \"method\", \"source_ip\", \"url\"]\n",
    "\n",
    "num_pipeline = Pipeline([\n",
    "        ('selector', DataFrameSelector(num_attribs)),\n",
    "        ('std_scaler', StandardScaler()),\n",
    "    ])\n",
    "\n",
    "cat_pipeline = Pipeline([\n",
    "        ('selector', DataFrameSelector(cat_attribs)),\n",
    "        ('cat_encoder', CategoricalEncoder(encoding=\"onehot-dense\")),\n",
    "    ])"
   ]
  },
  {
   "cell_type": "code",
   "execution_count": 42,
   "metadata": {},
   "outputs": [
    {
     "data": {
      "text/html": [
       "<div>\n",
       "<style scoped>\n",
       "    .dataframe tbody tr th:only-of-type {\n",
       "        vertical-align: middle;\n",
       "    }\n",
       "\n",
       "    .dataframe tbody tr th {\n",
       "        vertical-align: top;\n",
       "    }\n",
       "\n",
       "    .dataframe thead th {\n",
       "        text-align: right;\n",
       "    }\n",
       "</style>\n",
       "<table border=\"1\" class=\"dataframe\">\n",
       "  <thead>\n",
       "    <tr style=\"text-align: right;\">\n",
       "      <th></th>\n",
       "      <th>destination_ip</th>\n",
       "      <th>method</th>\n",
       "      <th>request_size</th>\n",
       "      <th>response_size</th>\n",
       "      <th>source_ip</th>\n",
       "      <th>url</th>\n",
       "    </tr>\n",
       "  </thead>\n",
       "  <tbody>\n",
       "    <tr>\n",
       "      <th>0</th>\n",
       "      <td>AAAAAAAAAAAAAP//CjACBQ==</td>\n",
       "      <td>GET</td>\n",
       "      <td>0</td>\n",
       "      <td>0</td>\n",
       "      <td>CoAABQ==</td>\n",
       "      <td>/productpage</td>\n",
       "    </tr>\n",
       "    <tr>\n",
       "      <th>1</th>\n",
       "      <td>AAAAAAAAAAAAAP//CjACCQ==</td>\n",
       "      <td>GET</td>\n",
       "      <td>0</td>\n",
       "      <td>0</td>\n",
       "      <td>CjACBQ==</td>\n",
       "      <td>/productpage</td>\n",
       "    </tr>\n",
       "    <tr>\n",
       "      <th>2</th>\n",
       "      <td>AAAAAAAAAAAAAP//CjABCA==</td>\n",
       "      <td>GET</td>\n",
       "      <td>0</td>\n",
       "      <td>178</td>\n",
       "      <td>CjACCQ==</td>\n",
       "      <td>/details/0</td>\n",
       "    </tr>\n",
       "    <tr>\n",
       "      <th>3</th>\n",
       "      <td>AAAAAAAAAAAAAP//CjABCQ==</td>\n",
       "      <td>GET</td>\n",
       "      <td>0</td>\n",
       "      <td>375</td>\n",
       "      <td>CjACCQ==</td>\n",
       "      <td>/reviews/0</td>\n",
       "    </tr>\n",
       "    <tr>\n",
       "      <th>4</th>\n",
       "      <td>AAAAAAAAAAAAAP//CjACCA==</td>\n",
       "      <td>GET</td>\n",
       "      <td>0</td>\n",
       "      <td>48</td>\n",
       "      <td>CjABCQ==</td>\n",
       "      <td>/ratings/0</td>\n",
       "    </tr>\n",
       "  </tbody>\n",
       "</table>\n",
       "</div>"
      ],
      "text/plain": [
       "             destination_ip method  request_size  response_size source_ip  \\\n",
       "0  AAAAAAAAAAAAAP//CjACBQ==    GET             0              0  CoAABQ==   \n",
       "1  AAAAAAAAAAAAAP//CjACCQ==    GET             0              0  CjACBQ==   \n",
       "2  AAAAAAAAAAAAAP//CjABCA==    GET             0            178  CjACCQ==   \n",
       "3  AAAAAAAAAAAAAP//CjABCQ==    GET             0            375  CjACCQ==   \n",
       "4  AAAAAAAAAAAAAP//CjACCA==    GET             0             48  CjABCQ==   \n",
       "\n",
       "            url  \n",
       "0  /productpage  \n",
       "1  /productpage  \n",
       "2    /details/0  \n",
       "3    /reviews/0  \n",
       "4    /ratings/0  "
      ]
     },
     "execution_count": 42,
     "metadata": {},
     "output_type": "execute_result"
    }
   ],
   "source": [
    "mixer_data_clean.head()"
   ]
  },
  {
   "cell_type": "code",
   "execution_count": 43,
   "metadata": {},
   "outputs": [
    {
     "name": "stderr",
     "output_type": "stream",
     "text": [
      "/usr/local/lib/python2.7/site-packages/sklearn/utils/validation.py:475: DataConversionWarning: Data with input dtype int64 was converted to float64 by StandardScaler.\n",
      "  warnings.warn(msg, DataConversionWarning)\n"
     ]
    },
    {
     "data": {
      "text/plain": [
       "array([[-0.00455359, -0.84032232,  0.        , ...,  0.        ,\n",
       "         0.        ,  0.        ],\n",
       "       [-0.00455359, -0.84032232,  0.        , ...,  0.        ,\n",
       "         0.        ,  0.        ],\n",
       "       [-0.00455359, -0.76892728,  0.        , ...,  0.        ,\n",
       "         0.        ,  0.        ],\n",
       "       ...,\n",
       "       [-0.00455359, -0.76892728,  0.        , ...,  0.        ,\n",
       "         0.        ,  0.        ],\n",
       "       [-0.00455359, -0.68991143,  0.        , ...,  0.        ,\n",
       "         0.        ,  0.        ],\n",
       "       [-0.00455359, -0.82106972,  0.        , ...,  0.        ,\n",
       "         0.        ,  0.        ]])"
      ]
     },
     "execution_count": 43,
     "metadata": {},
     "output_type": "execute_result"
    }
   ],
   "source": [
    "from sklearn.pipeline import FeatureUnion\n",
    "\n",
    "full_pipeline = FeatureUnion(transformer_list=[\n",
    "        (\"num_pipeline\", num_pipeline),\n",
    "        (\"cat_pipeline\", cat_pipeline),\n",
    "    ])\n",
    "\n",
    "mixer_prepared = full_pipeline.fit_transform(mixer_data_clean)\n",
    "mixer_prepared"
   ]
  },
  {
   "cell_type": "code",
   "execution_count": 44,
   "metadata": {},
   "outputs": [
    {
     "data": {
      "text/plain": [
       "(174039, 87)"
      ]
     },
     "execution_count": 44,
     "metadata": {},
     "output_type": "execute_result"
    }
   ],
   "source": [
    "mixer_prepared.shape"
   ]
  },
  {
   "cell_type": "markdown",
   "metadata": {},
   "source": [
    "## Train the Machine Learning Model"
   ]
  },
  {
   "cell_type": "code",
   "execution_count": 45,
   "metadata": {},
   "outputs": [
    {
     "name": "stdout",
     "output_type": "stream",
     "text": [
      "139231 train + 34808 test\n"
     ]
    }
   ],
   "source": [
    "# Split the data into a training set and a testing set\n",
    "from sklearn.model_selection import train_test_split\n",
    "\n",
    "train_set, test_set = train_test_split(mixer_prepared, test_size=0.2, random_state=42)\n",
    "print \"{} train + {} test\".format(len(train_set), len(test_set))"
   ]
  },
  {
   "cell_type": "code",
   "execution_count": 57,
   "metadata": {},
   "outputs": [
    {
     "data": {
      "image/png": "[encoded data removed]",
      "text/plain": [
       "<Figure size 432x288 with 1 Axes>"
      ]
     },
     "metadata": {},
     "output_type": "display_data"
    }
   ],
   "source": [
    "from sklearn.cluster import KMeans\n",
    "from sklearn.decomposition import PCA\n",
    "\n",
    "# #############################################################################\n",
    "# Visualize the results on PCA-reduced data\n",
    "\n",
    "reduced_data = PCA(n_components=2).fit_transform(mixer_prepared)\n",
    "kmeans = KMeans(init='k-means++', n_clusters=2, n_init=10)\n",
    "kmeans.fit(reduced_data)\n",
    "\n",
    "# Step size of the mesh. Decrease to increase the quality of the VQ.\n",
    "h = .01     # point in the mesh [x_min, x_max]x[y_min, y_max].\n",
    "\n",
    "# Plot the decision boundary. For that, we will assign a color to each\n",
    "x_min, x_max = reduced_data[:, 0].min() - 1, reduced_data[:, 0].max() + 1\n",
    "y_min, y_max = reduced_data[:, 1].min() - 1, reduced_data[:, 1].max() + 1\n",
    "xx, yy = np.meshgrid(np.arange(x_min, x_max, h), np.arange(y_min, y_max, h))\n",
    "\n",
    "# Obtain labels for each point in mesh. Use last trained model.\n",
    "Z = kmeans.predict(np.c_[xx.ravel(), yy.ravel()])\n",
    "\n",
    "# Put the result into a color plot\n",
    "Z = Z.reshape(xx.shape)\n",
    "plt.figure(1)\n",
    "plt.clf()\n",
    "plt.imshow(Z, interpolation='nearest',\n",
    "           extent=(xx.min(), xx.max(), yy.min(), yy.max()),\n",
    "           cmap=plt.cm.Paired,\n",
    "           aspect='auto', origin='lower')\n",
    "\n",
    "plt.plot(reduced_data[:, 0], reduced_data[:, 1], 'k.', markersize=2)\n",
    "# Plot the centroids as a white X\n",
    "centroids = kmeans.cluster_centers_\n",
    "plt.scatter(centroids[:, 0], centroids[:, 1],\n",
    "            marker='x', s=169, linewidths=3,\n",
    "            color='w', zorder=10)\n",
    "plt.title('K-Means Clustering on the PCA-Reduced Data\\n'\n",
    "          '(centroids are marked with white cross)')\n",
    "plt.xlim(x_min, x_max)\n",
    "plt.ylim(y_min, y_max)\n",
    "plt.xticks(())\n",
    "plt.yticks(())\n",
    "plt.show()"
   ]
  },
  {
   "cell_type": "code",
   "execution_count": 59,
   "metadata": {},
   "outputs": [
    {
     "data": {
      "text/plain": [
       "array([[ 1.30778295e-01, -8.12963363e-04],\n",
       "       [ 8.36563972e-03, -8.63242319e-04],\n",
       "       [ 1.21318289e+00, -1.23077196e-02],\n",
       "       ...,\n",
       "       [ 1.21318289e+00, -1.23077196e-02],\n",
       "       [ 1.00405672e+00, -9.85767102e-03],\n",
       "       [ 8.63783936e-01, -5.37444098e-03]])"
      ]
     },
     "execution_count": 59,
     "metadata": {},
     "output_type": "execute_result"
    }
   ],
   "source": [
    "reduced_data.view()"
   ]
  },
  {
   "cell_type": "code",
   "execution_count": 48,
   "metadata": {},
   "outputs": [
    {
     "data": {
      "text/plain": [
       "(2, 87)"
      ]
     },
     "execution_count": 48,
     "metadata": {},
     "output_type": "execute_result"
    }
   ],
   "source": [
    "from sklearn.cluster import KMeans\n",
    "\n",
    "kmeans = KMeans(n_clusters=2)\n",
    "kmeans.fit(train_set)\n",
    "y_kmeans = kmeans.predict(test_set)\n",
    "kmeans.cluster_centers_.shape"
   ]
  },
  {
   "cell_type": "code",
   "execution_count": 49,
   "metadata": {},
   "outputs": [
    {
     "data": {
      "text/plain": [
       "array([1, 0, 1, ..., 0, 1, 0], dtype=int32)"
      ]
     },
     "execution_count": 49,
     "metadata": {},
     "output_type": "execute_result"
    }
   ],
   "source": [
    "kmeans.labels_"
   ]
  },
  {
   "cell_type": "code",
   "execution_count": 50,
   "metadata": {},
   "outputs": [
    {
     "data": {
      "image/png": "[encoded data removed]",
      "text/plain": [
       "<Figure size 432x288 with 1 Axes>"
      ]
     },
     "metadata": {},
     "output_type": "display_data"
    }
   ],
   "source": [
    "plt.scatter(test_set[:, 0], test_set[:, 2], c=y_kmeans, s=50, cmap='viridis')\n",
    "plt.show()"
   ]
  },
  {
   "cell_type": "code",
   "execution_count": 51,
   "metadata": {},
   "outputs": [
    {
     "data": {
      "image/png": "[encoded data removed]",
      "text/plain": [
       "<Figure size 432x288 with 1 Axes>"
      ]
     },
     "metadata": {},
     "output_type": "display_data"
    }
   ],
   "source": [
    "centers = kmeans.cluster_centers_\n",
    "plt.scatter(centers[:, 0], centers[:, 2], c='black', s=200, alpha=0.5)\n",
    "plt.show()"
   ]
  },
  {
   "cell_type": "code",
   "execution_count": 52,
   "metadata": {},
   "outputs": [
    {
     "data": {
      "text/plain": [
       "<mpl_toolkits.mplot3d.art3d.Path3DCollection at 0x11456b650>"
      ]
     },
     "execution_count": 52,
     "metadata": {},
     "output_type": "execute_result"
    },
    {
     "data": {
      "image/png": "[encoded data removed]",
      "text/plain": [
       "<Figure size 432x288 with 1 Axes>"
      ]
     },
     "metadata": {},
     "output_type": "display_data"
    }
   ],
   "source": [
    "from mpl_toolkits.mplot3d import Axes3D\n",
    "\n",
    "fig = plt.figure()\n",
    "ax = Axes3D(fig)\n",
    "ax.scatter(test_set[:, 0], test_set[:, 1], test_set[:, 2], c=y_kmeans)"
   ]
  },
  {
   "cell_type": "code",
   "execution_count": 53,
   "metadata": {},
   "outputs": [
    {
     "data": {
      "text/plain": [
       "<mpl_toolkits.mplot3d.art3d.Path3DCollection at 0x1144bfe90>"
      ]
     },
     "execution_count": 53,
     "metadata": {},
     "output_type": "execute_result"
    },
    {
     "data": {
      "image/png": "[encoded data removed]",
      "text/plain": [
       "<Figure size 432x288 with 1 Axes>"
      ]
     },
     "metadata": {},
     "output_type": "display_data"
    }
   ],
   "source": [
    "fig = plt.figure()\n",
    "ax = Axes3D(fig)\n",
    "ax.scatter(test_set[:, 0], test_set[:, 1], test_set[:, 2], marker='*', c='#050505', s=1000)"
   ]
  }
 ],
 "metadata": {
  "kernelspec": {
   "display_name": "Python 3",
   "language": "python",
   "name": "python3"
  },
  "language_info": {
   "codemirror_mode": {
    "name": "ipython",
    "version": 3
   },
   "file_extension": ".py",
   "mimetype": "text/x-python",
   "name": "python",
   "nbconvert_exporter": "python",
   "pygments_lexer": "ipython3",
   "version": "3.7.7"
  }
 },
 "nbformat": 4,
 "nbformat_minor": 2
}
